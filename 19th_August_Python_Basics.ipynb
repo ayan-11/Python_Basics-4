{
 "cells": [
  {
   "cell_type": "markdown",
   "id": "fa172d59-e3ef-4d7b-b5a2-b114b315c416",
   "metadata": {},
   "source": [
    "TOPIC: Python Basics Variable"
   ]
  },
  {
   "cell_type": "raw",
   "id": "c71509d4-fe9c-413f-9385-692c55680828",
   "metadata": {},
   "source": [
    "1. Declare two variables, `x` and `y`, and assign them integer values. Swap the\n",
    "   values of these variables without using any temporary variable."
   ]
  },
  {
   "cell_type": "code",
   "execution_count": 1,
   "id": "40970206-d075-410a-b0ee-f72934619839",
   "metadata": {},
   "outputs": [],
   "source": [
    "a=10\n",
    "b=15"
   ]
  },
  {
   "cell_type": "code",
   "execution_count": 2,
   "id": "231f9246-31d8-40e6-822d-46c913b458e8",
   "metadata": {},
   "outputs": [
    {
     "name": "stdout",
     "output_type": "stream",
     "text": [
      "10 15\n"
     ]
    }
   ],
   "source": [
    "print(a,b)"
   ]
  },
  {
   "cell_type": "code",
   "execution_count": 3,
   "id": "a010f197-ce0f-4fc6-8808-c242633b4353",
   "metadata": {},
   "outputs": [],
   "source": [
    "a,b=b,a"
   ]
  },
  {
   "cell_type": "code",
   "execution_count": 4,
   "id": "bbac2c17-787f-4084-9318-aced4efeb9b4",
   "metadata": {},
   "outputs": [
    {
     "name": "stdout",
     "output_type": "stream",
     "text": [
      "15 10\n"
     ]
    }
   ],
   "source": [
    "print(a,b)"
   ]
  },
  {
   "cell_type": "markdown",
   "id": "afe86449-ecbc-4cec-ad21-46be2fa826eb",
   "metadata": {},
   "source": [
    "2. Create a program that calculates the area of a rectangle. Take the length and\n",
    "   width as inputs from the user and store them in variables. Calculate and\n",
    "   display the area."
   ]
  },
  {
   "cell_type": "code",
   "execution_count": 24,
   "id": "6455e707-3267-4dd3-bad6-0507477dd26d",
   "metadata": {},
   "outputs": [
    {
     "name": "stdin",
     "output_type": "stream",
     "text": [
      "Enter the length of the rectangle:-  15\n",
      "Enter the breadth of the rectangle:-  20\n"
     ]
    },
    {
     "name": "stdout",
     "output_type": "stream",
     "text": [
      "Length and breadth of the rectangle is :-  15 ,  20\n"
     ]
    }
   ],
   "source": [
    "length=int(input(\"Enter the length of the rectangle:- \"))\n",
    "breadth = int(input(\"Enter the breadth of the rectangle:- \"))\n",
    "print(\"Length and breadth of the rectangle is :- \",length,\", \",breadth)"
   ]
  },
  {
   "cell_type": "code",
   "execution_count": 25,
   "id": "1576a0ec-c1ac-4409-af24-f7a0961c8433",
   "metadata": {},
   "outputs": [
    {
     "name": "stdout",
     "output_type": "stream",
     "text": [
      "The area of the rectangle is :-  70\n"
     ]
    }
   ],
   "source": [
    "area=2*(length+breadth)\n",
    "print(\"The area of the rectangle is :- \",area)"
   ]
  },
  {
   "cell_type": "markdown",
   "id": "7019655e-c910-40f3-8345-c9a479cb342f",
   "metadata": {},
   "source": [
    "3. Write a Python program that converts temperatures from Celsius to\n",
    "   Fahrenheit. Take the temperature in Celsius as input, store it in a variable,\n",
    "   convert it to Fahrenheit, and display the result."
   ]
  },
  {
   "cell_type": "code",
   "execution_count": 26,
   "id": "20ac6348-e689-46aa-b567-7af67077ebeb",
   "metadata": {},
   "outputs": [
    {
     "name": "stdin",
     "output_type": "stream",
     "text": [
      "Enter temperature in Celsius:  24\n"
     ]
    },
    {
     "name": "stdout",
     "output_type": "stream",
     "text": [
      "The temperature in celsius is:-  24.0 C\n",
      "The temperature in fahrenheit is :-  75.2 F\n"
     ]
    }
   ],
   "source": [
    "\n",
    "celsius = float(input(\"Enter temperature in Celsius: \"))\n",
    "\n",
    "\n",
    "fahrenheit = (celsius * 9/5) + 32\n",
    "\n",
    "print(\"The temperature in celsius is:- \",celsius,\"C\")\n",
    "print(\"The temperature in fahrenheit is :- \",fahrenheit,\"F\")\n"
   ]
  },
  {
   "cell_type": "markdown",
   "id": "1a2a512b-006a-4c5f-b967-7a9df3063d31",
   "metadata": {},
   "source": [
    "TOPIC: String Based Questions"
   ]
  },
  {
   "cell_type": "markdown",
   "id": "53b04c5d-afb3-440a-a4db-4e81cf88f254",
   "metadata": {},
   "source": [
    "1. Write a Python program that takes a string as input and prints the length of\n",
    "the string."
   ]
  },
  {
   "cell_type": "code",
   "execution_count": 27,
   "id": "325b9d03-aeae-4d38-b243-236354508253",
   "metadata": {},
   "outputs": [
    {
     "name": "stdin",
     "output_type": "stream",
     "text": [
      "Enter a string:-  ayan\n"
     ]
    },
    {
     "name": "stdout",
     "output_type": "stream",
     "text": [
      "The string given is :-  ayan\n"
     ]
    }
   ],
   "source": [
    "str1=input(\"Enter a string:- \")\n",
    "print(\"The string given is :- \",str1)"
   ]
  },
  {
   "cell_type": "code",
   "execution_count": 28,
   "id": "b84439fa-dcef-45fb-87ae-887b420e4cc3",
   "metadata": {},
   "outputs": [
    {
     "name": "stdout",
     "output_type": "stream",
     "text": [
      "The length of the string is :-  4\n"
     ]
    }
   ],
   "source": [
    "print(\"The length of the string is :- \",len(str1))"
   ]
  },
  {
   "cell_type": "markdown",
   "id": "733843ab-d014-4464-b40b-a20d670b30d9",
   "metadata": {},
   "source": [
    "2. Create a program that takes a sentence from the user and counts the number\n",
    "of vowels (a, e, i, o, u) in the string.\n",
    "\n"
   ]
  },
  {
   "cell_type": "code",
   "execution_count": 29,
   "id": "89af170a-7da2-431b-b98e-148dd3e50b2e",
   "metadata": {},
   "outputs": [
    {
     "name": "stdin",
     "output_type": "stream",
     "text": [
      "Enter a string:-  Hello World\n"
     ]
    },
    {
     "name": "stdout",
     "output_type": "stream",
     "text": [
      "The string given is :-  Hello World\n"
     ]
    }
   ],
   "source": [
    "sentence=input(\"Enter a string:- \")\n",
    "print(\"The string given is :- \",sentence)"
   ]
  },
  {
   "cell_type": "code",
   "execution_count": 15,
   "id": "37254211-469b-4d58-8dcc-f6fc6aaaa65d",
   "metadata": {},
   "outputs": [
    {
     "name": "stdout",
     "output_type": "stream",
     "text": [
      "Number of 'a's:  0\n",
      "Number of 'e's:  1\n",
      "Number of 'i's:  0\n",
      "Number of 'o's:  2\n",
      "Number of 'u's:  0\n"
     ]
    }
   ],
   "source": [
    "sentence = sentence.lower()\n",
    "\n",
    "# Counting vowels using a count variable\n",
    "count_a = 0\n",
    "count_e = 0\n",
    "count_i = 0\n",
    "count_o = 0\n",
    "count_u = 0\n",
    "for char in sentence:\n",
    "    if char == 'a':\n",
    "        count_a += 1\n",
    "    elif char == 'e':\n",
    "        count_e += 1\n",
    "    elif char == 'i':\n",
    "        count_i += 1\n",
    "    elif char == 'o':\n",
    "        count_o += 1\n",
    "    elif char == 'u':\n",
    "        count_u += 1\n",
    "print(f\"Number of 'a's: \",count_a)\n",
    "print(f\"Number of 'e's: \",count_e)\n",
    "print(f\"Number of 'i's: \",count_i)\n",
    "print(f\"Number of 'o's: \",count_o)\n",
    "print(f\"Number of 'u's: \",count_u)"
   ]
  },
  {
   "cell_type": "markdown",
   "id": "4a9dc9ab-2e5e-4688-b27b-8d8bcb3aaf4d",
   "metadata": {},
   "source": [
    "3. Given a string, reverse the order of characters using string slicing and print\n",
    "the reversed string."
   ]
  },
  {
   "cell_type": "code",
   "execution_count": 30,
   "id": "b5de48c5-27dd-420b-9e70-499ab704b614",
   "metadata": {},
   "outputs": [
    {
     "name": "stdin",
     "output_type": "stream",
     "text": [
      "Enter a string:-  PWSKILLS\n"
     ]
    },
    {
     "name": "stdout",
     "output_type": "stream",
     "text": [
      "The string given is :-  PWSKILLS\n"
     ]
    }
   ],
   "source": [
    "string=input(\"Enter a string:- \")\n",
    "print(\"The string given is :- \",string)"
   ]
  },
  {
   "cell_type": "code",
   "execution_count": 17,
   "id": "617fc060-cee0-43ee-b6bb-51af1ddf185d",
   "metadata": {},
   "outputs": [
    {
     "name": "stdout",
     "output_type": "stream",
     "text": [
      "SLLIKSWP\n"
     ]
    }
   ],
   "source": [
    "print(string[::-1])"
   ]
  },
  {
   "cell_type": "markdown",
   "id": "0cc6caf0-74d0-44fa-8eb7-23f472531548",
   "metadata": {},
   "source": [
    "4. Write a program that takes a string as input and checks if it is a palindrome\n",
    "(reads the same forwards and backwards)."
   ]
  },
  {
   "cell_type": "code",
   "execution_count": 31,
   "id": "5dde1525-f8ad-4bed-8d9f-57cf369a1b29",
   "metadata": {},
   "outputs": [
    {
     "name": "stdin",
     "output_type": "stream",
     "text": [
      "Enter a string:-  malayalam\n"
     ]
    },
    {
     "name": "stdout",
     "output_type": "stream",
     "text": [
      "The string given is :-  malayalam\n"
     ]
    }
   ],
   "source": [
    "string=input(\"Enter a string:- \")\n",
    "print(\"The string given is :- \",string)"
   ]
  },
  {
   "cell_type": "code",
   "execution_count": 19,
   "id": "d5b5deca-a6b1-49da-8e69-5da64557c263",
   "metadata": {},
   "outputs": [],
   "source": [
    "rev=string[::-1]"
   ]
  },
  {
   "cell_type": "code",
   "execution_count": 20,
   "id": "79ab034a-801a-4520-92c7-0fc3e995732e",
   "metadata": {},
   "outputs": [
    {
     "name": "stdout",
     "output_type": "stream",
     "text": [
      "The string is palindrome !!\n"
     ]
    }
   ],
   "source": [
    "if string == rev:\n",
    "    print(\"The string is palindrome !!\")\n",
    "else:\n",
    "    print(\"The string is not palindrome!!\")"
   ]
  },
  {
   "cell_type": "markdown",
   "id": "f927a332-940d-46c9-8bb2-3b4a657a73f1",
   "metadata": {},
   "source": [
    "5. Create a program that takes a string as input and removes all the spaces from\n",
    "it. Print the modified string without spaces."
   ]
  },
  {
   "cell_type": "code",
   "execution_count": 32,
   "id": "f0c4e58d-8f6a-4127-bc4a-fa9bf03a7195",
   "metadata": {},
   "outputs": [
    {
     "name": "stdin",
     "output_type": "stream",
     "text": [
      "Enter a string :-  what a beautiful day\n"
     ]
    },
    {
     "name": "stdout",
     "output_type": "stream",
     "text": [
      "The string given is :-  what a beautiful day\n"
     ]
    }
   ],
   "source": [
    "string=input(\"Enter a string :- \")\n",
    "print(\"The string given is :- \",string)"
   ]
  },
  {
   "cell_type": "code",
   "execution_count": 33,
   "id": "6bd990d3-b0cf-4c12-85c7-5038702bf830",
   "metadata": {},
   "outputs": [
    {
     "name": "stdout",
     "output_type": "stream",
     "text": [
      "Modified string without spaces: whatabeautifulday\n"
     ]
    }
   ],
   "source": [
    "mod_string = string.replace(' ', '')\n",
    "print(\"Modified string without spaces:\", mod_string)"
   ]
  }
 ],
 "metadata": {
  "kernelspec": {
   "display_name": "Python 3 (ipykernel)",
   "language": "python",
   "name": "python3"
  },
  "language_info": {
   "codemirror_mode": {
    "name": "ipython",
    "version": 3
   },
   "file_extension": ".py",
   "mimetype": "text/x-python",
   "name": "python",
   "nbconvert_exporter": "python",
   "pygments_lexer": "ipython3",
   "version": "3.10.8"
  }
 },
 "nbformat": 4,
 "nbformat_minor": 5
}
